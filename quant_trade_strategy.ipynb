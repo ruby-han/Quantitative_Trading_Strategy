{
 "cells": [
  {
   "cell_type": "markdown",
   "id": "c4059a2d",
   "metadata": {},
   "source": [
    "# Quantitative Trading Strategy\n",
    "#### By: Ruby Han\n",
    "\n",
    "## Abstract\n",
    "Forecasting market movement is a long-time attractive topic. This project attempts to create an algorithmic trading strategy to predict future asset returns and trigger buy or sell orders and benchmark strategy with the S&P 500 index. \n",
    "\n",
    "## Problem Objective \n",
    "- Create a quantitative trading strategy for any stocks\n",
    "- No restriction on number of times entering or exiting the market, or long/short for period of strategy\n",
    "- Benchmark with S&P 500 index\n",
    "- Elucidate results and conclusion\n",
    "- Provide future work and considerations given more time and resources\n",
    "\n",
    "## Result Summary\n",
    "\n",
    "## Navigation <a id = 0> </a>\n",
    "- [Data Load](#1)\n",
    "- [EDA](#2)\n",
    "- [Feature Engineering](#3)\n",
    "    - [MACD](#3.1)\n",
    "    - [Bollinger](#3.2)\n",
    "    - [RSI](#3.3)\n",
    "    - [Normal Distribution](#3.4)\n",
    "- [Model](#4)"
   ]
  },
  {
   "cell_type": "code",
   "execution_count": null,
   "id": "b68b842e",
   "metadata": {},
   "outputs": [],
   "source": [
    "# Import required libraries\n",
    "import pandas as pd\n",
    "import numpy as np\n",
    "import os\n",
    "os.environ['TF_CPP_MIN_LOG_LEVEL'] = '2'\n",
    "from itertools import compress\n",
    "\n",
    "import matplotlib.pyplot as plt\n",
    "import seaborn as sns\n",
    "from IPython.display import Markdown as md\n",
    "\n",
    "import yfinance as yf\n",
    "import pandas_datareader as pdr\n",
    "\n",
    "from feature_eng import MACD, bollinger_bands, RSI, momentum\n",
    "\n",
    "import statsmodels.api as sm\n",
    "\n",
    "from sklearn.preprocessing import MinMaxScaler\n",
    "from sklearn.model_selection import TimeSeriesSplit, train_test_split\n",
    "from sklearn.feature_selection import RFE\n",
    "from sklearn.linear_model import LinearRegression\n",
    "from sklearn.metrics import mean_squared_error, r2_score, mean_absolute_error, max_error\n",
    "\n",
    "from keras.layers import LSTM, Dense, Dropout\n",
    "from keras.models import Sequential\n",
    "\n",
    "pd.set_option(\"display.max_rows\", None, # display all rows\n",
    "              \"display.max_columns\", None, # display all columns\n",
    "              \"display.max_colwidth\", None, # expand column width\n",
    "              \"display.html.use_mathjax\", False) # disable Latex style mathjax rendering"
   ]
  },
  {
   "cell_type": "markdown",
   "id": "3abd82f4",
   "metadata": {},
   "source": [
    "## Data Load <a id = 1> </a> \n",
    "[Back to Top](#0)\n",
    "\n",
    "- S&P 500 index data \n",
    "\n",
    "##### Terminology\n",
    "- `Open` : Stock price at market open (USD)\n",
    "- `High` : Highest price reached per day (USD)\n",
    "- `Low` : Lowest price reached per day (USD)\n",
    "- `Close` : Stock price at market close (USD)\n",
    "- `Adj Close` : Adjusted stock price at market close (USD)\n",
    "- `Volume` : Number of shares traded per day"
   ]
  },
  {
   "cell_type": "code",
   "execution_count": null,
   "id": "f51c3f13",
   "metadata": {},
   "outputs": [],
   "source": [
    "# Obtain stock data from Yahoo Finance\n",
    "start = '2010-01-01'\n",
    "end = '2022-01-01'\n",
    "# data = yf.download('AAPL', start=start, end=end)\n",
    "\n",
    "tickers = [\n",
    "    '^GSPC' # sp500\n",
    "    ,'XOM' # exxon\n",
    "    ,'CVX' # chevron\n",
    "    ,'AAPL' # apple\n",
    "    ,'TSLA' # tesla\n",
    "    ,'MSFT' # microsoft\n",
    "          ]\n",
    "\n",
    "for ticker in tickers:\n",
    "    data = pdr.get_data_yahoo(ticker, '2000')\n",
    "    data.to_csv(f'data/raw_stocks/{ticker}.csv')\n",
    "\n",
    "# data = yf.download('AAPL', start=start, end=end)"
   ]
  },
  {
   "cell_type": "code",
   "execution_count": null,
   "id": "f2a32ae5",
   "metadata": {},
   "outputs": [],
   "source": [
    "apple_raw_df = pd.read_csv('data/raw_stocks/AAPL.csv')"
   ]
  },
  {
   "cell_type": "markdown",
   "id": "a3ee4369",
   "metadata": {},
   "source": [
    "## EDA <a id = 2> </a> \n",
    "[Back to Top](#0)"
   ]
  },
  {
   "cell_type": "code",
   "execution_count": null,
   "id": "fbb37fee",
   "metadata": {},
   "outputs": [],
   "source": [
    "apple_raw_df.head()"
   ]
  },
  {
   "cell_type": "code",
   "execution_count": null,
   "id": "2871ba99",
   "metadata": {},
   "outputs": [],
   "source": [
    "apple_raw_df.shape"
   ]
  },
  {
   "cell_type": "code",
   "execution_count": null,
   "id": "54b1dbbe",
   "metadata": {},
   "outputs": [],
   "source": [
    "apple_raw_df.describe()"
   ]
  },
  {
   "cell_type": "code",
   "execution_count": null,
   "id": "7dd3e72e",
   "metadata": {},
   "outputs": [],
   "source": [
    "apple_raw_df.dtypes"
   ]
  },
  {
   "cell_type": "code",
   "execution_count": null,
   "id": "4c7557c9",
   "metadata": {},
   "outputs": [],
   "source": [
    "# Check for null values\n",
    "# If exist, use last good value, mean, zero or drop observation\n",
    "apple_raw_df.isna().sum()"
   ]
  },
  {
   "cell_type": "markdown",
   "id": "5ff8fc4a",
   "metadata": {},
   "source": [
    "## Feature Engineering <a id = 3> </a> \n",
    "[Back to Top](#0)\n",
    "\n",
    "- Indicators are tools that help traders/investors make buying/selling stocks decisions\n",
    "- Technical indicators (features in our case):\n",
    "    - Price\n",
    "    - Volume\n",
    "- The following features will be created:\n",
    "    - Bollinger Bands\n",
    "    - RSI\n",
    "    - MACD\n",
    "    - Moving Average\n",
    "    - Momentum\n",
    "    - Change\n",
    "    - Volatility\n",
    "    - Return\n",
    "- Target variable: `Return`\n",
    "- All other features will serve as predictors"
   ]
  },
  {
   "cell_type": "code",
   "execution_count": null,
   "id": "3d1f49f7",
   "metadata": {},
   "outputs": [],
   "source": [
    "!rm -rf data/raw_stocks/.ipynb_checkpoints\n",
    "files = os.listdir('data/raw_stocks')\n",
    "stocks = {}\n",
    "\n",
    "for file in files:\n",
    "    name = file.split('.')[0]\n",
    "    stocks[name] = pd.read_csv(f'data/raw_stocks/{file}') \n",
    "    \n",
    "    stocks[name]['Date'] = pd.to_datetime(stocks[name]['Date'])\n",
    "    stocks[name].set_index('Date', inplace=True)\n",
    "    \n",
    "    # Bollinger Bands\n",
    "    stocks[name]['upper_boll_band'], stocks[name]['lower_boll_band'] = bollinger_bands(stocks[name])\n",
    "    \n",
    "    # MACD\n",
    "    stocks[name]['macd'], stocks[name]['signal'] = MACD(stocks[name])\n",
    "    \n",
    "    # RSI\n",
    "    stocks[name]['rsi'] = RSI(stocks[name])\n",
    "    \n",
    "    # 7d MA\n",
    "    stocks[name]['ma7'] = stocks[name].Close.rolling(window=7).mean()\n",
    "    \n",
    "    # 21d MA\n",
    "    stocks[name]['ma21'] = stocks[name].Close.rolling(window=21).mean()\n",
    "    \n",
    "    # Momentum\n",
    "    stocks[name]['momentum'] = momentum(stocks[name].Close, 3)\n",
    "    \n",
    "    # Difference between current and previous\n",
    "    stocks[name]['change'] = (stocks[name].Close - stocks[name].Close.shift(1)).fillna(0)\n",
    "    \n",
    "    # Volatility\n",
    "    stocks[name]['volatility'] = stocks[name].Close.ewm(21).std()\n",
    "    \n",
    "    # Return\n",
    "    stocks[name]['return'] = round(stocks[name]['Close']/stocks[name]['Open'] - 1, 4)\n",
    "\n",
    "    stocks[name].to_csv(f'data/stocks/{name}.csv')"
   ]
  },
  {
   "cell_type": "code",
   "execution_count": null,
   "id": "3898d7e4",
   "metadata": {},
   "outputs": [],
   "source": [
    "files"
   ]
  },
  {
   "cell_type": "code",
   "execution_count": null,
   "id": "a8ed74db",
   "metadata": {},
   "outputs": [],
   "source": [
    "apple_df = stocks['AAPL']"
   ]
  },
  {
   "cell_type": "markdown",
   "id": "fe81dceb",
   "metadata": {},
   "source": [
    "#### Correlation Plot\n",
    "- `change` and `rsi` correlate with `return`"
   ]
  },
  {
   "cell_type": "code",
   "execution_count": null,
   "id": "536df6ab",
   "metadata": {},
   "outputs": [],
   "source": [
    "corr = apple_df.corr()\n",
    "\n",
    "# Mask upper triangle\n",
    "mask = np.zeros_like(corr, dtype=bool)\n",
    "mask[np.triu_indices_from(mask)] = True\n",
    "\n",
    "# Plot correlation matrix\n",
    "plt.figure(figsize=(16, 5))\n",
    "heatmap = sns.heatmap(corr, mask=mask, annot=True, linewidths=0.5, \n",
    "                      vmin=-0.75, vmax=0.75, cmap=\"RdBu_r\")\n",
    "heatmap.set_title('Correlation Between Features');"
   ]
  },
  {
   "cell_type": "code",
   "execution_count": null,
   "id": "9341a6d3",
   "metadata": {},
   "outputs": [],
   "source": [
    "corr[['return']].sort_values(by='return', ascending=False)"
   ]
  },
  {
   "cell_type": "markdown",
   "id": "164047a6",
   "metadata": {},
   "source": [
    "## $\\underline{\\text{Plots}}$\n",
    "\n",
    "### MACD - Moving Average Convergence Divergence  <a id = 3.1> </a> \n",
    "[Back to Top](#0)\n",
    "- Momentum indicator showing relationship between two moving averages\n",
    "- Logic is that momentum has more impact on short moving average and we subtract short_ma from long_ma\n",
    "- Difference is sometimes positive or negative, hence the name MACD (moving average converge/diverge oscillator)\n",
    "    - Oscillator is the difference between the two MAs\n",
    "    - When it is positive, we long and vice versa\n",
    "- If short_ma > long_ma, then long and hold as stock is on the rise and will keep going up for some time\n",
    "- If short_ma < long_ma, then clear positions"
   ]
  },
  {
   "cell_type": "code",
   "execution_count": null,
   "id": "e12fee31",
   "metadata": {},
   "outputs": [],
   "source": [
    "def macd(stock):\n",
    "    plt.figure(figsize=(16,5))\n",
    "    plt.plot(stock.macd, label='short_ma', color = '#b278ff')\n",
    "    plt.plot(stock.signal, label='long_ma', color='#ffa74a')\n",
    "    plt.axhline(0, color='#557692')\n",
    "    plt.legend(frameon=True, loc=0, ncol=1, fontsize=10, borderpad=.6)\n",
    "    plt.title('MACD', fontsize=15)\n",
    "    plt.ylabel('Strength', fontsize=12)\n",
    "    plt.show()\n",
    "    \n",
    "    plt.figure(figsize=(16,5))\n",
    "    (stock.macd - stock.signal).plot(kind='bar',color='r')\n",
    "    plt.grid(True)\n",
    "    plt.xticks([])\n",
    "    plt.xlabel('')\n",
    "    plt.title('MACD Oscillator', fontsize=15)\n",
    "    plt.show()"
   ]
  },
  {
   "cell_type": "code",
   "execution_count": null,
   "id": "01a9726d",
   "metadata": {},
   "outputs": [],
   "source": [
    "macd(apple_df.loc['2020':'2020'])"
   ]
  },
  {
   "cell_type": "markdown",
   "id": "2d789134",
   "metadata": {},
   "source": [
    "### Bollinger Bands  <a id = 3.2> </a> \n",
    "[Back to Top](#0)\n",
    "- Price almost never leaves Bollinger Bands space\n",
    "    - Price is fluctuating between three standard deviations\n",
    "- Good indicator as buying/selling signal"
   ]
  },
  {
   "cell_type": "code",
   "execution_count": null,
   "id": "79eea53b",
   "metadata": {},
   "outputs": [],
   "source": [
    "def bollinger_bands_plot(stock, std=3):    \n",
    "    plt.figure(figsize=(16,5))\n",
    "    plt.style.use('seaborn-whitegrid')\n",
    "    plt.plot(stock.index, stock.Close, color='#3388cf', label='Price')\n",
    "    plt.plot(stock.index, stock.ma21, color='#ad6eff', label='Moving Average (21 days)')\n",
    "    plt.plot(stock.index, stock.ma7, color='#ff6e9d', label='Moving Average (7 days)')\n",
    "    plt.plot(stock.index, stock.upper_boll_band, color='#ffbd74', alpha=0.3)\n",
    "    plt.plot(stock.index, stock.lower_boll_band, color='#ffa33f', alpha=0.3)\n",
    "    plt.fill_between(stock.index, stock.upper_boll_band, stock.lower_boll_band, color='#ffa33f', alpha=0.1, label=f'Bollinger Band ({std} STD)')\n",
    "    plt.legend(frameon=True, loc=0, ncol=1, fontsize=10, borderpad=.6)\n",
    "    plt.title('Bollinger Bands', fontsize=15)\n",
    "    plt.ylabel('Price', fontsize=12)\n",
    "    plt.xlim([stock.index.min(), stock.index.max()])\n",
    "    plt.show()"
   ]
  },
  {
   "cell_type": "code",
   "execution_count": null,
   "id": "38fb7f92",
   "metadata": {},
   "outputs": [],
   "source": [
    "bollinger_bands_plot(apple_df.loc['2020':'2020'])"
   ]
  },
  {
   "cell_type": "markdown",
   "id": "f623c502",
   "metadata": {},
   "source": [
    "### RSI - Relative Strength Index <a id = 3.3> </a> \n",
    "[Back to Top](#0)\n",
    "- A momentum indicator that can tell if stock is overbought or oversold\n",
    "- Ranges from 0 to 100\n",
    "- When index approaches 30, signal to buy\n",
    "- When index approaches 70, signal to sell"
   ]
  },
  {
   "cell_type": "code",
   "execution_count": null,
   "id": "d74ed589",
   "metadata": {},
   "outputs": [],
   "source": [
    "def rsi(stock):\n",
    "    plt.figure(figsize=(16,5)) \n",
    "    plt.plot(stock.index, stock.rsi, color='#ad6eff')\n",
    "    plt.xlim([stock.index.min(), stock.index.max()])\n",
    "    plt.axhline(30, color='#f9989c')\n",
    "    plt.axhline(70, color='#60e8ad')\n",
    "    plt.title('RSI', fontsize=15)\n",
    "    plt.ylabel('%', fontsize=12)\n",
    "    plt.ylim([0, 100])\n",
    "    plt.show()"
   ]
  },
  {
   "cell_type": "code",
   "execution_count": null,
   "id": "547ed0d1",
   "metadata": {},
   "outputs": [],
   "source": [
    "rsi(apple_df.loc['2020':'2020'])"
   ]
  },
  {
   "cell_type": "markdown",
   "id": "37a1ff18",
   "metadata": {},
   "source": [
    "### Normal Distribution <a id = 3.4> </a> \n",
    "[Back to Top](#0)\n",
    "- ML algorithms require normal distribution of data to work well\n",
    "- Target var `return` mostly normal"
   ]
  },
  {
   "cell_type": "code",
   "execution_count": null,
   "id": "f574ae23",
   "metadata": {},
   "outputs": [],
   "source": [
    "apple_df.head()"
   ]
  },
  {
   "cell_type": "code",
   "execution_count": null,
   "id": "9e7fc1a6",
   "metadata": {},
   "outputs": [],
   "source": [
    "z = lambda x: (x - x.mean()) / x.std()\n",
    "\n",
    "plt.hist(z(apple_df['return']), bins=30)\n",
    "plt.title('Apple Return Normal Distribution', fontsize=15)\n",
    "plt.show()"
   ]
  },
  {
   "cell_type": "code",
   "execution_count": null,
   "id": "026c532a",
   "metadata": {},
   "outputs": [],
   "source": [
    "plt.figure(figsize=(16,5))\n",
    "sm.qqplot(apple_df['return'], line='s', scale=1)\n",
    "plt.title('QQPlot', fontsize=15);"
   ]
  },
  {
   "cell_type": "markdown",
   "id": "6f0dedb6",
   "metadata": {},
   "source": [
    "## Model <a id = 4> </a> \n",
    "[Back to Top](#0)\n",
    "- Compare different machine learning models\n",
    "\n",
    "### Data Preparation\n",
    "- Scale data to [0-1] using MinMaxScaler \n",
    "    - Achieve greater precision by scaling down from huge values\n",
    "    - Reduce computational cost\n",
    "    - Reduce memory consumption"
   ]
  },
  {
   "cell_type": "code",
   "execution_count": null,
   "id": "b8a27f16",
   "metadata": {},
   "outputs": [],
   "source": [
    "# Scaling\n",
    "def scale(stock):\n",
    "    scaler = MinMaxScaler()\n",
    "    return pd.DataFrame(scaler.fit_transform(stock), columns=apple_df.columns)"
   ]
  },
  {
   "cell_type": "code",
   "execution_count": null,
   "id": "c2044ba8",
   "metadata": {},
   "outputs": [],
   "source": [
    "dataset = apple_df.dropna()\n",
    "\n",
    "X = scale(dataset).drop(['return'], axis=1)\n",
    "y = dataset['return']"
   ]
  },
  {
   "cell_type": "code",
   "execution_count": null,
   "id": "b9097f35",
   "metadata": {},
   "outputs": [],
   "source": [
    "# final_features = X.columns.drop(['32FC0744BO', '32FC0749_O']).to_list()"
   ]
  },
  {
   "cell_type": "code",
   "execution_count": null,
   "id": "8212268e",
   "metadata": {},
   "outputs": [],
   "source": [
    "estimator = LinearRegression(n_jobs=-1)\n",
    "selector = RFE(estimator, step=1)\n",
    "selector = selector.fit(X, y)\n",
    "\n",
    "features = X.columns.to_list()\n",
    "\n",
    "final_features = list(compress(features, selector.support_))\n",
    "selector.support_\n",
    "selector.ranking_\n",
    "\n",
    "final_features"
   ]
  },
  {
   "cell_type": "code",
   "execution_count": null,
   "id": "3513a888",
   "metadata": {},
   "outputs": [],
   "source": [
    "# Time series train and test data split at regular time intervals\n",
    "def data_split(features, n_split=10):\n",
    "    timesplit= TimeSeriesSplit(n_splits=n_split)\n",
    "    for train_index, test_index in timesplit.split(features):\n",
    "        X_train, X_test = features[:len(train_index)], features[len(train_index): (len(train_index)+len(test_index))]\n",
    "        y_train, y_test = y[:len(train_index)].values.ravel(), y[len(train_index): (len(train_index)+len(test_index))].values.ravel()\n",
    "        return X_train, y_train, X_test, y_test"
   ]
  },
  {
   "cell_type": "code",
   "execution_count": null,
   "id": "d25b1c9f",
   "metadata": {},
   "outputs": [],
   "source": [
    "X_train, y_train, X_test, y_test = data_split(X[final_features])"
   ]
  },
  {
   "cell_type": "code",
   "execution_count": null,
   "id": "1a1e9ff4",
   "metadata": {},
   "outputs": [],
   "source": [
    "trainX =np.array(X_train)\n",
    "testX =np.array(X_test)\n",
    "X_train = trainX.reshape(X_train.shape[0], 1, X_train.shape[1])\n",
    "X_test = testX.reshape(X_test.shape[0], 1, X_test.shape[1])"
   ]
  },
  {
   "cell_type": "code",
   "execution_count": null,
   "id": "a4f424c7",
   "metadata": {},
   "outputs": [],
   "source": [
    "lstm = Sequential()\n",
    "lstm.add(LSTM(32, input_shape=(1, trainX.shape[1]), activation='relu', return_sequences=False))\n",
    "lstm.add(Dense(1))\n",
    "lstm.compile(loss='mse', optimizer='adam', metrics=['mae'])\n",
    "lstm.summary()"
   ]
  },
  {
   "cell_type": "code",
   "execution_count": null,
   "id": "124fc079",
   "metadata": {},
   "outputs": [],
   "source": [
    "history=lstm.fit(X_train, y_train, epochs=100, batch_size=8, verbose=1, shuffle=False)"
   ]
  },
  {
   "cell_type": "code",
   "execution_count": null,
   "id": "eb9e98b8",
   "metadata": {},
   "outputs": [],
   "source": [
    "y_pred= lstm.predict(X_test)"
   ]
  },
  {
   "cell_type": "code",
   "execution_count": null,
   "id": "ceaee098",
   "metadata": {},
   "outputs": [],
   "source": [
    "#Predicted vs True Adj Close Value – LSTM\n",
    "plt.plot(y_test, label='Actual')\n",
    "plt.plot(y_pred, label='Predicted')\n",
    "plt.title('LSTM Model')\n",
    "plt.xlabel('Time Scale')\n",
    "plt.ylabel('Scaled Price')\n",
    "plt.legend()\n",
    "plt.show()"
   ]
  },
  {
   "cell_type": "markdown",
   "id": "0edc70f8",
   "metadata": {},
   "source": [
    "# MACD"
   ]
  },
  {
   "cell_type": "code",
   "execution_count": null,
   "id": "cb33c78d",
   "metadata": {},
   "outputs": [],
   "source": [
    "start = '2018-01-05'\n",
    "end = '2019-01-05'\n",
    "ticker = 'XOM' # '^GSPC'\n",
    "data = yf.download(ticker, start=start, end=end)\n",
    "short_ma = 10\n",
    "long_ma = 21"
   ]
  },
  {
   "cell_type": "code",
   "execution_count": null,
   "id": "74aaa54a",
   "metadata": {},
   "outputs": [],
   "source": [
    "# Simple moving average\n",
    "data['short_ma'] = data.Close.rolling(window=short_ma).mean()   \n",
    "data['long_ma'] = data.Close.rolling(window=long_ma).mean()"
   ]
  },
  {
   "cell_type": "code",
   "execution_count": null,
   "id": "6c887bb5",
   "metadata": {},
   "outputs": [],
   "source": [
    "data.tail()"
   ]
  },
  {
   "cell_type": "code",
   "execution_count": null,
   "id": "165b5115",
   "metadata": {},
   "outputs": [],
   "source": [
    "data['short_ma'] = data.Close.ewm(short_ma).mean()   \n",
    "data['long_ma'] = data.Close.ewm(long_ma).mean()"
   ]
  },
  {
   "cell_type": "code",
   "execution_count": null,
   "id": "f7f09686",
   "metadata": {},
   "outputs": [],
   "source": [
    "data.tail()"
   ]
  },
  {
   "cell_type": "code",
   "execution_count": null,
   "id": "18f34dce",
   "metadata": {},
   "outputs": [],
   "source": [
    "# If short_ma > long_ma, then long and hold\n",
    "# If short_ma < long_ma, then clear positions\n",
    "\n",
    "# Logic is that momentum has more impact on short moving average and we subtract short_ma from long_ma\n",
    "# Difference is sometimes positive or negative, hence the name MACD (moving average converge/diverge oscillator)\n",
    "\n",
    "# Generate trade signal as 1 when short_ma > long_ma (hold), else -1 (clear position)\n",
    "data['signal'] = np.where(data['short_ma'] > data['long_ma'], 1, -1)\n",
    "\n",
    "# Oscillator is the difference between the two MAs\n",
    "# When it is positive, we long and vice versa\n",
    "data['oscillator'] = data['short_ma'] - data['long_ma']"
   ]
  },
  {
   "cell_type": "code",
   "execution_count": null,
   "id": "9dfad937",
   "metadata": {},
   "outputs": [],
   "source": [
    "# Plotting the backtesting result\n",
    "# The first plot is the actual close price with long/short positions\n",
    "fig=plt.figure()\n",
    "ax=fig.add_subplot(111)\n",
    "\n",
    "data.Close.plot(label=ticker)\n",
    "ax.plot(data.loc[data['signal']==1].index, data['Close'][data['signal']==1], label='Long', lw=0,marker='^', c='g')\n",
    "ax.plot(data.loc[data['signal']==-1].index, data['Close'][data['signal']==-1], label='Short', lw=0,marker='v', c='r')\n",
    "\n",
    "plt.legend(loc='best')\n",
    "plt.grid(True)\n",
    "plt.title('Positions')\n",
    "\n",
    "plt.show()\n",
    "\n",
    "# The second plot (bar chart) is long/short moving average with oscillator\n",
    "fig=plt.figure()\n",
    "cx=fig.add_subplot(211)\n",
    "\n",
    "# Oscillator is the difference between the two MAs\n",
    "# When it is positive, we long and vice versa\n",
    "data['oscillator'].plot(kind='bar',color='r')\n",
    "\n",
    "plt.legend(loc='best')\n",
    "plt.grid(True)\n",
    "plt.xticks([])\n",
    "plt.xlabel('')\n",
    "plt.title('MACD Oscillator')\n",
    "\n",
    "bx=fig.add_subplot(212)\n",
    "\n",
    "data['short_ma'].plot(label='short_ma')\n",
    "data['long_ma'].plot(label='long_ma',linestyle=':')\n",
    "\n",
    "plt.legend(loc='best')\n",
    "plt.grid(True)\n",
    "plt.show()"
   ]
  },
  {
   "cell_type": "code",
   "execution_count": null,
   "id": "976645a6",
   "metadata": {},
   "outputs": [],
   "source": [
    "# Backtesting\n",
    "# Initial capital of $10k to calculate P&L\n",
    "# 100 shares to buy every position\n",
    "\n",
    "capital0 = 10000\n",
    "positions = 100\n",
    "\n",
    "# Cumulative summation column is created to check holding of the position\n",
    "data['cumsum']=data['signal'].cumsum()\n",
    "\n",
    "portfolio = pd.DataFrame()\n",
    "portfolio['holdings'] = data['cumsum']*data.Close*positions\n",
    "portfolio['cash'] = capital0 - (data['signal']*data.Close*positions).cumsum()\n",
    "portfolio['total_asset'] = portfolio['holdings'] + portfolio['cash']\n",
    "portfolio['return'] = portfolio['total_asset'].pct_change()\n",
    "portfolio['signal'] = data['signal'].copy()\n",
    "portfolio['date'] = data.index\n",
    "portfolio.set_index('date',inplace=True)"
   ]
  },
  {
   "cell_type": "code",
   "execution_count": null,
   "id": "2cc86a05",
   "metadata": {},
   "outputs": [],
   "source": [
    "# Plotting the asset value change of the portfolio\n",
    "        \n",
    "fig=plt.figure()\n",
    "bx=fig.add_subplot(111)\n",
    "\n",
    "portfolio['total_asset'].plot(label='Total Asset')\n",
    "\n",
    "# Long/short position markers related to the portfolio\n",
    "# The same mechanism as the previous one\n",
    "# Replace close price with total asset value\n",
    "bx.plot(portfolio['signal'].loc[portfolio['signal']==1].index,portfolio['total_asset'][portfolio['signal']==1],lw=0,marker='^',c='g',label='long')\n",
    "bx.plot(portfolio['signal'].loc[portfolio['signal']<0].index,portfolio['total_asset'][portfolio['signal']<0],lw=0,marker='v',c='r',label='short')\n",
    "\n",
    "plt.legend(loc='best')\n",
    "plt.grid(True)\n",
    "plt.xlabel('Date')\n",
    "plt.ylabel('Asset Value')\n",
    "plt.title('Total Asset')\n",
    "plt.show()"
   ]
  },
  {
   "cell_type": "code",
   "execution_count": null,
   "id": "7eae17d9",
   "metadata": {},
   "outputs": [],
   "source": [
    "# Metrics\n",
    "def stats(portfolio=portfolio, trading_signals=data,stdate=start,eddate=end,capital0=10000):\n",
    "\n",
    "    stats=pd.DataFrame([0])\n",
    "\n",
    "    #get the min and max of return\n",
    "    maximum=np.max(portfolio['return'])\n",
    "    minimum=np.min(portfolio['return'])    \n",
    "\n",
    "    #growth_rate denotes the average growth rate of portfolio \n",
    "    #use geometric average instead of arithmetic average for percentage growth\n",
    "    growth_rate=(float(portfolio['total_asset'].iloc[-1]/capital0))**(1/len(trading_signals))-1\n",
    "\n",
    "    #calculating the standard deviation\n",
    "    std=float(np.sqrt((((portfolio['return']-growth_rate)**2).sum())/len(trading_signals)))\n",
    "\n",
    "    #use S&P500 as benchmark\n",
    "    benchmark=yf.download('^GSPC',start=stdate,end=eddate)\n",
    "\n",
    "    #return of benchmark\n",
    "    return_of_benchmark=float(benchmark['Close'].iloc[-1]/benchmark['Open'].iloc[0]-1)\n",
    "\n",
    "    #rate_of_benchmark denotes the average growth rate of benchmark \n",
    "    #use geometric average instead of arithmetic average for percentage growth\n",
    "    rate_of_benchmark=(return_of_benchmark+1)**(1/len(trading_signals))-1\n",
    "\n",
    "    del benchmark\n",
    "\n",
    "    #backtesting stats\n",
    "    #CAGR stands for cumulated average growth rate\n",
    "    stats['CAGR']=stats['portfolio return']=float(0)\n",
    "    stats['CAGR'][0]=growth_rate\n",
    "    stats['portfolio return'][0]=portfolio['total_asset'].iloc[-1]/capital0-1\n",
    "    stats['benchmark return']=return_of_benchmark\n",
    "    stats['sharpe ratio']=(growth_rate-rate_of_benchmark)/std\n",
    "\n",
    "    #note that i use stop loss limit to limit the numbers of longs\n",
    "    #and when clearing positions, we clear all the positions at once\n",
    "    #so every long is always one, and short cannot be larger than the stop loss limit\n",
    "    stats['numbers of longs']=trading_signals['signal'].loc[trading_signals['signal']==1].count()\n",
    "    stats['numbers of shorts']=trading_signals['signal'].loc[trading_signals['signal']<0].count()\n",
    "    stats['numbers of trades']=stats['numbers of shorts']+stats['numbers of longs']  \n",
    "\n",
    "    #to get the total length of trades\n",
    "    #given that cumsum indicates the holding of positions\n",
    "    #we can get all the possible outcomes when cumsum doesnt equal zero\n",
    "    #then we count how many non-zero positions there are\n",
    "    #we get the estimation of total length of trades\n",
    "    stats['total length of trades']=trading_signals['signal'].loc[trading_signals['cumsum']!=0].count()\n",
    "    stats['average length of trades']=stats['total length of trades']/stats['numbers of trades']\n",
    "    stats['profit per trade']=float(0)\n",
    "    stats['profit per trade'].iloc[0]=(portfolio['total_asset'].iloc[-1]-capital0)/stats['numbers of trades'].iloc[0]\n",
    "\n",
    "    del stats[0]\n",
    "    print(stats)"
   ]
  },
  {
   "cell_type": "code",
   "execution_count": null,
   "id": "fd544b3a",
   "metadata": {},
   "outputs": [],
   "source": [
    "stats()"
   ]
  },
  {
   "cell_type": "code",
   "execution_count": null,
   "id": "3b3ee93a",
   "metadata": {
    "scrolled": false
   },
   "outputs": [],
   "source": [
    "df = data.copy()\n",
    "df['Log Returns'] = np.log(data['Close']/data['Close'].shift(1))\n",
    "df.dropna(inplace=True)\n",
    "df['Strategy Log Returns'] = df['Log Returns']*df['signal'].shift(1)\n",
    "df.dropna(inplace=True)"
   ]
  },
  {
   "cell_type": "code",
   "execution_count": null,
   "id": "483e734f",
   "metadata": {},
   "outputs": [],
   "source": [
    "def MA_Strategy(stock=ticker,start=start,end=end,MAF=short_ma,MAS=long_ma):\n",
    "    data = yf.download(stock, start=start, end=end)\n",
    "    data['Log Returns'] = np.log(data['Close']/data['Close'].shift(1))\n",
    "    data.dropna(inplace=True)\n",
    "    data['MASlow'] = data['Close'].rolling(MAS).mean()\n",
    "    data['MAFast'] = data['Close'].rolling(MAF).mean()\n",
    "    data.dropna(inplace=True)\n",
    "    data['Signal'] = np.where(data['MAFast']>data['MASlow'],1,-1)\n",
    "    data.dropna(inplace=True)\n",
    "    data['Strategy Log Returns'] = data['Log Returns'] * data['Signal'].shift(1)\n",
    "    data.dropna(inplace=True)\n",
    "    \n",
    "    # We show the results:\n",
    "    \n",
    "    data[['Close','MAFast','MASlow','Signal']].plot(\n",
    "    secondary_y='Signal',\n",
    "    figsize=(15,9),\n",
    "    title=f'Close Price for {ticker}, Short/Long Moving Averages ({MAF}d and {MAS}d) and Short/Long Signal')\\\n",
    "    .get_legend().set_bbox_to_anchor((1.17, 0.85))\n",
    "\n",
    "    plt.figure(figsize = (15,9))\n",
    "    (100*(np.exp(data['Strategy Log Returns'].cumsum())-1)).plot(label = 'Cumulative Returns (Strategy)')\n",
    "    (100*(np.exp(data['Log Returns'].cumsum())-1)).plot(label = 'Cumulative Returns (Buy and Hold)')\n",
    "    plt.title('Cumulative Returns (%): {}'.format(stock))\n",
    "    plt.legend()\n",
    "    plt.show()\n",
    "    \n",
    "    print('\\n')\n",
    "    print('Total Returns:', stock)\n",
    "    print(35*'===')\n",
    "    print('Market Total Return:',((np.exp(data[['Log Returns', 'Strategy Log Returns']].sum()) -1)*100).round(3).iloc[0],'%')\n",
    "    print('Strategy Total Return:',((np.exp(data[['Log Returns', 'Strategy Log Returns']].sum()) -1)*100).round(3).iloc[1],'%')\n",
    "    print('\\n')\n",
    "    print('Annualized Volatility:', stock)\n",
    "    print(35*'===')\n",
    "    print('Market Volatility:',(data[['Log Returns', 'Strategy Log Returns']].std()*252**0.5).round(5).iloc[0],'%')\n",
    "    print('Strategy Volatility:',(data[['Log Returns', 'Strategy Log Returns']].std()*252**0.5).round(5).iloc[1],'%')"
   ]
  },
  {
   "cell_type": "code",
   "execution_count": null,
   "id": "f784bfe9",
   "metadata": {},
   "outputs": [],
   "source": [
    "MA_Strategy()"
   ]
  },
  {
   "cell_type": "code",
   "execution_count": null,
   "id": "c6ce2cce",
   "metadata": {},
   "outputs": [],
   "source": []
  }
 ],
 "metadata": {
  "kernelspec": {
   "display_name": "Python 3 (ipykernel)",
   "language": "python",
   "name": "python3"
  },
  "language_info": {
   "codemirror_mode": {
    "name": "ipython",
    "version": 3
   },
   "file_extension": ".py",
   "mimetype": "text/x-python",
   "name": "python",
   "nbconvert_exporter": "python",
   "pygments_lexer": "ipython3",
   "version": "3.9.10"
  }
 },
 "nbformat": 4,
 "nbformat_minor": 5
}
